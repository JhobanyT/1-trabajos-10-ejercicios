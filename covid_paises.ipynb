{
  "nbformat": 4,
  "nbformat_minor": 0,
  "metadata": {
    "colab": {
      "provenance": [],
      "authorship_tag": "ABX9TyPItNJ6thCeQjwz8P57WYin",
      "include_colab_link": true
    },
    "kernelspec": {
      "name": "python3",
      "display_name": "Python 3"
    },
    "language_info": {
      "name": "python"
    }
  },
  "cells": [
    {
      "cell_type": "markdown",
      "metadata": {
        "id": "view-in-github",
        "colab_type": "text"
      },
      "source": [
        "<a href=\"https://colab.research.google.com/github/JhobanyT/1-trabajos-10-ejercicios/blob/master/covid_paises.ipynb\" target=\"_parent\"><img src=\"https://colab.research.google.com/assets/colab-badge.svg\" alt=\"Open In Colab\"/></a>"
      ]
    },
    {
      "cell_type": "markdown",
      "source": [
        "COVID EN PAISES"
      ],
      "metadata": {
        "id": "sHtQaoIlPz7v"
      }
    },
    {
      "cell_type": "markdown",
      "source": [
        "Instalaciones"
      ],
      "metadata": {
        "id": "yBl4RV9BRTJd"
      }
    },
    {
      "cell_type": "code",
      "source": [
        "!pip install bar-chart-race"
      ],
      "metadata": {
        "id": "whbHIdkXQ9z9",
        "outputId": "334a4811-7ca5-4a8d-d415-a5a7f8b24f7d",
        "colab": {
          "base_uri": "https://localhost:8080/"
        }
      },
      "execution_count": 10,
      "outputs": [
        {
          "output_type": "stream",
          "name": "stdout",
          "text": [
            "Requirement already satisfied: bar-chart-race in /usr/local/lib/python3.10/dist-packages (0.1.0)\n",
            "Requirement already satisfied: pandas>=0.24 in /usr/local/lib/python3.10/dist-packages (from bar-chart-race) (2.0.3)\n",
            "Requirement already satisfied: matplotlib>=3.1 in /usr/local/lib/python3.10/dist-packages (from bar-chart-race) (3.7.1)\n",
            "Requirement already satisfied: contourpy>=1.0.1 in /usr/local/lib/python3.10/dist-packages (from matplotlib>=3.1->bar-chart-race) (1.2.1)\n",
            "Requirement already satisfied: cycler>=0.10 in /usr/local/lib/python3.10/dist-packages (from matplotlib>=3.1->bar-chart-race) (0.12.1)\n",
            "Requirement already satisfied: fonttools>=4.22.0 in /usr/local/lib/python3.10/dist-packages (from matplotlib>=3.1->bar-chart-race) (4.50.0)\n",
            "Requirement already satisfied: kiwisolver>=1.0.1 in /usr/local/lib/python3.10/dist-packages (from matplotlib>=3.1->bar-chart-race) (1.4.5)\n",
            "Requirement already satisfied: numpy>=1.20 in /usr/local/lib/python3.10/dist-packages (from matplotlib>=3.1->bar-chart-race) (1.25.2)\n",
            "Requirement already satisfied: packaging>=20.0 in /usr/local/lib/python3.10/dist-packages (from matplotlib>=3.1->bar-chart-race) (24.0)\n",
            "Requirement already satisfied: pillow>=6.2.0 in /usr/local/lib/python3.10/dist-packages (from matplotlib>=3.1->bar-chart-race) (9.4.0)\n",
            "Requirement already satisfied: pyparsing>=2.3.1 in /usr/local/lib/python3.10/dist-packages (from matplotlib>=3.1->bar-chart-race) (3.1.2)\n",
            "Requirement already satisfied: python-dateutil>=2.7 in /usr/local/lib/python3.10/dist-packages (from matplotlib>=3.1->bar-chart-race) (2.8.2)\n",
            "Requirement already satisfied: pytz>=2020.1 in /usr/local/lib/python3.10/dist-packages (from pandas>=0.24->bar-chart-race) (2023.4)\n",
            "Requirement already satisfied: tzdata>=2022.1 in /usr/local/lib/python3.10/dist-packages (from pandas>=0.24->bar-chart-race) (2024.1)\n",
            "Requirement already satisfied: six>=1.5 in /usr/local/lib/python3.10/dist-packages (from python-dateutil>=2.7->matplotlib>=3.1->bar-chart-race) (1.16.0)\n"
          ]
        }
      ]
    },
    {
      "cell_type": "markdown",
      "source": [
        "Importaciones"
      ],
      "metadata": {
        "id": "E8JQFUpnRWQY"
      }
    },
    {
      "cell_type": "code",
      "execution_count": 2,
      "metadata": {
        "id": "agPSnBMDPo39"
      },
      "outputs": [],
      "source": [
        "import pandas as pd"
      ]
    },
    {
      "cell_type": "markdown",
      "source": [
        "Data Frame"
      ],
      "metadata": {
        "id": "yCTeOkyHRY6x"
      }
    },
    {
      "cell_type": "code",
      "source": [
        "df_covid_paises = pd.read_csv(\"https://docs.google.com/spreadsheets/d/e/2PACX-1vSpfco7ovNh0Shu_Cw6wtvpgLsSXVs00b6TPrmSsTDWMhKTfCSqPblzlBOY_LT1Lu0kIbvkTRbPo8PK/pub?gid=1966012165&single=true&output=csv\",index_col=\"Fecha\",)\n",
        "print(df_covid_paises.shape)\n",
        "print(df_covid_paises)"
      ],
      "metadata": {
        "colab": {
          "base_uri": "https://localhost:8080/"
        },
        "id": "hZwnGW2SQBD-",
        "outputId": "81bf373c-3776-41c6-81c1-4a3c547af700"
      },
      "execution_count": 21,
      "outputs": [
        {
          "output_type": "stream",
          "name": "stdout",
          "text": [
            "(32, 7)\n",
            "           Peru  Boliva  Brasil  Argentina  Chile  Mexico  Alemania\n",
            "Fecha                                                              \n",
            "3/20/2020     1       0       0          0      0       3         0\n",
            "3/21/2020    20       2      10         11      2      14         2\n",
            "3/22/2020    24      13      11         19      5      16         4\n",
            "3/23/2020    31      24      25         30      9      45         5\n",
            "3/24/2020    39      40      39         35     13      69         7\n",
            "3/25/2020    58      46      46         40     17      93         9\n",
            "3/26/2020    70      55      49         45     18     114        11\n",
            "3/27/2020    87      57      51         51     20     132        12\n",
            "3/28/2020   106      70      52         61     23     150        13\n",
            "3/29/2020   108      75      63         62     26     172        15\n",
            "3/30/2020   123      83      75         64     28     201        17\n",
            "3/31/2020   125      89      82         72     30     226        18\n",
            "4/1/2020    137     107      85         78     35     240        20\n",
            "4/2/2020    156     118      95         86     37     256        21\n",
            "4/3/2020    162     121      97         95     39     269        22\n",
            "4/4/2020    167     122     102         96     44     285        24\n",
            "4/5/2020    175     135     111        104     45     311        25\n",
            "4/6/2020    176     147     114        105     46     341        26\n",
            "4/7/2020    189     155     118        116     49     369        28\n",
            "4/8/2020    199     167     126        122     51     393        29\n",
            "4/9/2020    210     170     137        125     53     421        31\n",
            "4/10/2020   226     177     138        129     55     449        32\n",
            "4/11/2020   237     181     153        137     56     473        33\n",
            "4/12/2020   252     187     167        143     58     494        35\n",
            "4/13/2020   268     197     178        148     61     500        37\n",
            "4/14/2020   269     211     182        154     62     505        39\n",
            "4/15/2020   279     225     186        159     65     507        40\n",
            "4/16/2020   295     231     197        170     68     529        42\n",
            "4/17/2020   303     241     203        173     73     535        44\n",
            "4/18/2020   307     245     208        179     77     538        46\n",
            "4/19/2020   308     248     214        186     81     540        48\n",
            "4/20/2020   318     262     225        187     86     563        49\n"
          ]
        }
      ]
    },
    {
      "cell_type": "code",
      "source": [
        "import bar_chart_race as bcarrera\n",
        "bcarrera.bar_chart_race(df=df_covid_paises,filename=\"Número de casos por paises.mp4\",title=\"Número de casos por paises\")"
      ],
      "metadata": {
        "id": "PiFRJCUcQE_t",
        "outputId": "469fbe8f-e2b8-49f4-dbac-90f6894acaa2",
        "colab": {
          "base_uri": "https://localhost:8080/"
        }
      },
      "execution_count": 24,
      "outputs": [
        {
          "output_type": "stream",
          "name": "stderr",
          "text": [
            "/usr/local/lib/python3.10/dist-packages/bar_chart_race/_make_chart.py:286: UserWarning: FixedFormatter should only be used together with FixedLocator\n",
            "  ax.set_yticklabels(self.df_values.columns)\n",
            "/usr/local/lib/python3.10/dist-packages/bar_chart_race/_make_chart.py:287: UserWarning: FixedFormatter should only be used together with FixedLocator\n",
            "  ax.set_xticklabels([max_val] * len(ax.get_xticks()))\n"
          ]
        }
      ]
    }
  ]
}